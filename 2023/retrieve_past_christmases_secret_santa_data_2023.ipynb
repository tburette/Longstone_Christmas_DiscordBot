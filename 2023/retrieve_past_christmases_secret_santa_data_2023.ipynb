{
 "cells": [
  {
   "cell_type": "code",
   "execution_count": 70,
   "metadata": {},
   "outputs": [],
   "source": [
    "# relies on .bin files as they where at Sat Dec 9 11:02:50 2023 +0100 (commit cec4ed5d9e302a90121242734c822c92b24d6f70)\n",
    "\n",
    "import random"
   ]
  },
  {
   "cell_type": "code",
   "execution_count": 2,
   "metadata": {},
   "outputs": [
    {
     "name": "stdout",
     "output_type": "stream",
     "text": [
      "Done reading datas in users.bin\n",
      "Done reading datas in christmas.bin\n"
     ]
    }
   ],
   "source": [
    "import global_data\n",
    "\n",
    "# avoid accidentally changing .bin files\n",
    "def noop():\n",
    "    pass\n",
    "global_data.saveBinaryFile = noop\n",
    "\n",
    "global_data.load_data()"
   ]
  },
  {
   "cell_type": "code",
   "execution_count": 3,
   "metadata": {},
   "outputs": [],
   "source": [
    "christmas_2021 = global_data.Christmas[0]\n",
    "assert christmas_2021.getYear() == 2021\n",
    "christmas_2022 = global_data.Christmas[1]\n",
    "assert christmas_2022.getYear() == 2022\n",
    "assert len(global_data.Christmas) == 2"
   ]
  },
  {
   "cell_type": "code",
   "execution_count": 4,
   "metadata": {},
   "outputs": [
    {
     "name": "stdout",
     "output_type": "stream",
     "text": [
      "Alex (ByLex#0045) avec Cindy\n",
      "Vivien (Vivianus#3950) avec Lucie\n",
      "Mailys (méliz#0605) \n",
      "Romain (Romain#4956) \n",
      "Cricri (Cricri#7570) \n",
      "Cindy (Cinducci#3391) avec Alex\n",
      "Lucie (Lucine#2884) avec Vivien\n",
      "Laura (Laurette#1509) \n",
      "Gabin (S.A.M.#1938) \n"
     ]
    }
   ],
   "source": [
    "# Users\n",
    "users = global_data.Users\n",
    "for u in users:\n",
    "    print(u.name, f'({u.user_name})', f'avec {u.partner.name}' if u.partner else '')"
   ]
  },
  {
   "cell_type": "code",
   "execution_count": 5,
   "metadata": {},
   "outputs": [
    {
     "data": {
      "text/plain": [
       "['ByLex#0045',\n",
       " 'Vivianus#3950',\n",
       " 'méliz#0605',\n",
       " 'Romain#4956',\n",
       " 'Cricri#7570',\n",
       " 'Cinducci#3391',\n",
       " 'Lucine#2884',\n",
       " 'Laurette#1509',\n",
       " 'S.A.M.#1938']"
      ]
     },
     "execution_count": 5,
     "metadata": {},
     "output_type": "execute_result"
    }
   ],
   "source": [
    "# Users christmas 2021\n",
    "# users in christmas object are just a string\n",
    "# (user.getUserByUserName to get back User object)\n",
    "\n",
    "#same as users\n",
    "christmas_2021.getRegistredUsers()"
   ]
  },
  {
   "cell_type": "code",
   "execution_count": 6,
   "metadata": {},
   "outputs": [
    {
     "data": {
      "text/plain": [
       "['ByLex#0045',\n",
       " 'Vivianus#3950',\n",
       " 'méliz#0605',\n",
       " 'Romain#4956',\n",
       " 'Cricri#7570',\n",
       " 'Cinducci#3391',\n",
       " 'Lucine#2884',\n",
       " 'Laurette#1509',\n",
       " 'S.A.M.#1938']"
      ]
     },
     "execution_count": 6,
     "metadata": {},
     "output_type": "execute_result"
    }
   ],
   "source": [
    "# Users christmas 2022\n",
    "\n",
    "#same as users\n",
    "christmas_2021.getRegistredUsers()"
   ]
  },
  {
   "cell_type": "code",
   "execution_count": 7,
   "metadata": {},
   "outputs": [],
   "source": [
    "# empty :( but apparently recreated in SetOldChristmas.py\n",
    "christmas_2021.getPairs()\n",
    "\n",
    "# from SetOldChristmas.py\n",
    "christmas_2021_pairs = [(users[4], users[6]),  # Cricri -> Lucie\n",
    "        (users[0], users[1]),  # Alex -> Vivien\n",
    "        (users[5], users[4]),  # Cindy -> Cricri\n",
    "        (users[7], users[5]),  # Laura -> Cindy\n",
    "        (users[1], users[7]),  # Vivien -> Laura\n",
    "        (users[8], users[2]),  # Gabin -> Maylis\n",
    "        (users[6], users[0]),  # Lucie -> Alex\n",
    "        (users[2], users[8])  # Maylis -> Gabin\n",
    "        ]\n",
    "\n",
    "# checked manually that indexes above match the comment [0] is Alex, 1 is Vivien,...\n",
    "# [[str(o) for o in pair] for pair in christmas_2021_pairs]"
   ]
  },
  {
   "cell_type": "code",
   "execution_count": 8,
   "metadata": {},
   "outputs": [
    {
     "data": {
      "text/plain": [
       "[['Cinducci#3391 - Cindy', 'Laurette#1509 - Laura'],\n",
       " ['Romain#4956 - Romain', 'Lucine#2884 - Lucie'],\n",
       " ['ByLex#0045 - Alex', 'méliz#0605 - Mailys'],\n",
       " ['méliz#0605 - Mailys', 'Vivianus#3950 - Vivien'],\n",
       " ['Laurette#1509 - Laura', 'ByLex#0045 - Alex'],\n",
       " ['Vivianus#3950 - Vivien', 'Cricri#7570 - Cricri'],\n",
       " ['Cricri#7570 - Cricri', 'Romain#4956 - Romain'],\n",
       " ['Lucine#2884 - Lucie', 'Cinducci#3391 - Cindy']]"
      ]
     },
     "execution_count": 8,
     "metadata": {},
     "output_type": "execute_result"
    }
   ],
   "source": [
    "christmas_2022_pairs = christmas_2022.getPairs()\n",
    "[[str(o) for o in pair] for pair in christmas_2022_pairs]\n",
    "\n"
   ]
  },
  {
   "cell_type": "code",
   "execution_count": 9,
   "metadata": {},
   "outputs": [],
   "source": [
    "# different instances of User represent the same person!\n",
    "assert str(christmas_2021_pairs[2][0]), str(christmas_2022_pairs[0][0])\n",
    "assert christmas_2021_pairs[2][0] is not christmas_2022_pairs[0][0]\n",
    "\n",
    "# Fix : convert User to name strings"
   ]
  },
  {
   "cell_type": "code",
   "execution_count": 10,
   "metadata": {},
   "outputs": [],
   "source": [
    "# couples\n",
    "couple_dict = dict(((u.name, u.partner.name) for u in users if u.partner))\n",
    "def in_couple_with(user, user2):\n",
    "    return couple_dict.get(user) == user2\n",
    "\n",
    "# not needed\n",
    "# from itertools import chain\n",
    "# def flatten(iter):\n",
    "#     return list(chain(*iter)) \n",
    "# in_couple_users = set(flatten((u.name, u.partner.name) for u in users if u.partner))\n",
    "\n",
    "# test\n",
    "# print(in_couple_with(users[0].name, users[5].name))\n"
   ]
  },
  {
   "cell_type": "code",
   "execution_count": 11,
   "metadata": {},
   "outputs": [
    {
     "data": {
      "text/plain": [
       "[('Cricri', 'Lucie'),\n",
       " ('Alex', 'Vivien'),\n",
       " ('Cindy', 'Cricri'),\n",
       " ('Laura', 'Cindy'),\n",
       " ('Vivien', 'Laura'),\n",
       " ('Gabin', 'Mailys'),\n",
       " ('Lucie', 'Alex'),\n",
       " ('Mailys', 'Gabin')]"
      ]
     },
     "execution_count": 11,
     "metadata": {},
     "output_type": "execute_result"
    }
   ],
   "source": [
    "# Fix : convert User to name strings\n",
    "\n",
    "christmas_2021_pairs = [(u.name, u2.name) for (u, u2) in christmas_2021_pairs]\n",
    "christmas_2021_pairs"
   ]
  },
  {
   "cell_type": "code",
   "execution_count": 12,
   "metadata": {},
   "outputs": [
    {
     "data": {
      "text/plain": [
       "{'Cricri': 'Lucie',\n",
       " 'Alex': 'Vivien',\n",
       " 'Cindy': 'Cricri',\n",
       " 'Laura': 'Cindy',\n",
       " 'Vivien': 'Laura',\n",
       " 'Gabin': 'Mailys',\n",
       " 'Lucie': 'Alex',\n",
       " 'Mailys': 'Gabin'}"
      ]
     },
     "execution_count": 12,
     "metadata": {},
     "output_type": "execute_result"
    }
   ],
   "source": [
    "christmas_2021_dict =dict(christmas_2021_pairs)\n",
    "christmas_2021_dict"
   ]
  },
  {
   "cell_type": "code",
   "execution_count": 13,
   "metadata": {},
   "outputs": [
    {
     "data": {
      "text/plain": [
       "[('Cindy', 'Laura'),\n",
       " ('Romain', 'Lucie'),\n",
       " ('Alex', 'Mailys'),\n",
       " ('Mailys', 'Vivien'),\n",
       " ('Laura', 'Alex'),\n",
       " ('Vivien', 'Cricri'),\n",
       " ('Cricri', 'Romain'),\n",
       " ('Lucie', 'Cindy')]"
      ]
     },
     "execution_count": 13,
     "metadata": {},
     "output_type": "execute_result"
    }
   ],
   "source": [
    "# Fix : convert User to name strings\n",
    "\n",
    "christmas_2022_pairs = [(u.name, u2.name) for (u, u2) in christmas_2022_pairs]\n",
    "christmas_2022_pairs"
   ]
  },
  {
   "cell_type": "code",
   "execution_count": 14,
   "metadata": {},
   "outputs": [
    {
     "data": {
      "text/plain": [
       "{'Cindy': 'Laura',\n",
       " 'Romain': 'Lucie',\n",
       " 'Alex': 'Mailys',\n",
       " 'Mailys': 'Vivien',\n",
       " 'Laura': 'Alex',\n",
       " 'Vivien': 'Cricri',\n",
       " 'Cricri': 'Romain',\n",
       " 'Lucie': 'Cindy'}"
      ]
     },
     "execution_count": 14,
     "metadata": {},
     "output_type": "execute_result"
    }
   ],
   "source": [
    "christmas_2022_dict = dict(christmas_2022_pairs)\n",
    "christmas_2022_dict"
   ]
  },
  {
   "cell_type": "code",
   "execution_count": 15,
   "metadata": {},
   "outputs": [
    {
     "data": {
      "text/plain": [
       "['Alex',\n",
       " 'Vivien',\n",
       " 'Mailys',\n",
       " 'Romain',\n",
       " 'Cricri',\n",
       " 'Cindy',\n",
       " 'Lucie',\n",
       " 'Laura',\n",
       " 'Gabin']"
      ]
     },
     "execution_count": 15,
     "metadata": {},
     "output_type": "execute_result"
    }
   ],
   "source": [
    "# Fix : convert User to name strings\n",
    "users = [u.name for u in users]\n",
    "users"
   ]
  },
  {
   "cell_type": "code",
   "execution_count": 16,
   "metadata": {},
   "outputs": [
    {
     "data": {
      "text/plain": [
       "['Alex',\n",
       " 'Vivien',\n",
       " 'Mailys',\n",
       " 'Romain',\n",
       " 'Cricri',\n",
       " 'Cindy',\n",
       " 'Lucie',\n",
       " 'Laura',\n",
       " 'Thomas']"
      ]
     },
     "execution_count": 16,
     "metadata": {},
     "output_type": "execute_result"
    }
   ],
   "source": [
    "# update users for 2023\n",
    "# add and remove users\n",
    "users.remove('Gabin')\n",
    "users.append('Thomas')\n",
    "users"
   ]
  },
  {
   "cell_type": "code",
   "execution_count": 17,
   "metadata": {},
   "outputs": [
    {
     "data": {
      "text/plain": [
       "{'Alex': 'Cindy',\n",
       " 'Vivien': 'Lucie',\n",
       " 'Cindy': 'Alex',\n",
       " 'Lucie': 'Vivien',\n",
       " 'Mailys': 'Thomas',\n",
       " 'Thomas': 'Mailys'}"
      ]
     },
     "execution_count": 17,
     "metadata": {},
     "output_type": "execute_result"
    }
   ],
   "source": [
    "couple_dict['Mailys'] = 'Thomas'\n",
    "couple_dict['Thomas'] = 'Mailys'\n",
    "couple_dict"
   ]
  },
  {
   "cell_type": "code",
   "execution_count": 17,
   "metadata": {},
   "outputs": [
    {
     "name": "stdout",
     "output_type": "stream",
     "text": [
      "[('Alex', 'Laura'), ('Vivien', 'Cindy'), ('Mailys', 'Cricri'), ('Romain', 'Mailys'), ('Cricri', 'Thomas'), ('Cindy', 'Lucie'), ('Lucie', 'Romain'), ('Laura', 'Vivien'), ('Thomas', 'Alex')]\n"
     ]
    }
   ],
   "source": [
    "import generate_pairs\n",
    "print(generate_pairs.create_pairing(\n",
    "    generate_pairs.users, \n",
    "    generate_pairs.couple_dict, \n",
    "    generate_pairs.christmas_2021_dict, \n",
    "    generate_pairs.christmas_2022_dict))"
   ]
  },
  {
   "cell_type": "code",
   "execution_count": null,
   "metadata": {},
   "outputs": [],
   "source": [
    "#load secretsanta.bin (backup)\n",
    "import os\n",
    "import pickle\n",
    "path = '../secretsanta.bin'\n",
    "with open(path, 'rb') as file:\n",
    "    if file.read() != b'':\n",
    "        file.seek(0)\n",
    "        print(pickle.load(file))\n",
    "    else:\n",
    "        print(f\"Nothing to read in {path}\")"
   ]
  }
 ],
 "metadata": {
  "kernelspec": {
   "display_name": "Python 3",
   "language": "python",
   "name": "python3"
  },
  "language_info": {
   "codemirror_mode": {
    "name": "ipython",
    "version": 3
   },
   "file_extension": ".py",
   "mimetype": "text/x-python",
   "name": "python",
   "nbconvert_exporter": "python",
   "pygments_lexer": "ipython3",
   "version": "3.8.10"
  }
 },
 "nbformat": 4,
 "nbformat_minor": 2
}
